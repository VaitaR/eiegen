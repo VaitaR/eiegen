{
 "cells": [
  {
   "cell_type": "code",
   "execution_count": 1,
   "metadata": {},
   "outputs": [],
   "source": [
    "import pandas as pd\n",
    "import requests "
   ]
  },
  {
   "cell_type": "code",
   "execution_count": null,
   "metadata": {},
   "outputs": [],
   "source": [
    "-- EigenLayer \n",
    "WITH Deposits AS (\n",
    "   SELECT \n",
    "        \"from\" AS address,\n",
    "        value / 1e18 AS value_in_ether,\n",
    "        evt_block_time AS deposit_time\n",
    "    FROM \n",
    "        erc20_ethereum.evt_Transfer\n",
    "    WHERE\n",
    "        \"to\" IN (0x54945180db7943c0ed0fee7edab2bd24620256bc,\n",
    "             0x1bee69b7dfffa4e2d53c2a2df135c388ad25dcd2,\n",
    "             0x93c4b944d05dfe6df7645a86cd2206016c51564d,\n",
    "             0x57ba429517c3473B6d34CA9aCd56c0e735b94c02,\n",
    "             0x0Fe4F44beE93503346A3Ac9EE5A26b130a5796d6,\n",
    "             0x13760F50a9d7377e4F20CB8CF9e4c26586c658ff,\n",
    "             0x7CA911E83dabf90C90dD3De5411a10F1A6112184,\n",
    "             0x9d7eD45EE2E8FC5482fa2428f15C971e6369011d,\n",
    "             0xa4C637e0F704745D182e4D38cAb7E7485321d059,\n",
    "             0xAe60d8180437b5C34bB956822ac2710972584473,\n",
    "            0x298aFB19A105D59E74658C4C334Ff360BadE6dd2,\n",
    "            0x8CA7A5d6f3acd3A7A8bC468a8CD0FB14B6BD28b6\n",
    "             )\n",
    "    and \"from\" IN (0x57F9672bA603251C9C03B36cabdBBcA7Ca8Cfcf4)\n",
    "),\n",
    "Withdrawals AS (\n",
    "   SELECT \n",
    "        \"from\" AS address,\n",
    "        -value / 1e18 AS value_in_ether,\n",
    "        evt_block_time AS withdrawal_time\n",
    "    FROM \n",
    "        erc20_ethereum.evt_Transfer\n",
    "    WHERE\n",
    "        \"from\" IN (0x54945180db7943c0ed0fee7edab2bd24620256bc,\n",
    "             0x1bee69b7dfffa4e2d53c2a2df135c388ad25dcd2,\n",
    "             0x93c4b944d05dfe6df7645a86cd2206016c51564d,\n",
    "             0x57ba429517c3473B6d34CA9aCd56c0e735b94c02,\n",
    "             0x0Fe4F44beE93503346A3Ac9EE5A26b130a5796d6,\n",
    "             0x13760F50a9d7377e4F20CB8CF9e4c26586c658ff,\n",
    "             0x7CA911E83dabf90C90dD3De5411a10F1A6112184,\n",
    "             0x9d7eD45EE2E8FC5482fa2428f15C971e6369011d,\n",
    "             0xa4C637e0F704745D182e4D38cAb7E7485321d059,\n",
    "             0xAe60d8180437b5C34bB956822ac2710972584473,\n",
    "            0x298aFB19A105D59E74658C4C334Ff360BadE6dd2,\n",
    "            0x8CA7A5d6f3acd3A7A8bC468a8CD0FB14B6BD28b6\n",
    "             )\n",
    "),\n",
    "TokenBalances AS (\n",
    "    SELECT \n",
    "        address,\n",
    "        token_symbol,\n",
    "        SUM(value_in_ether) AS balance\n",
    "    FROM (\n",
    "        SELECT \n",
    "            \"from\" AS address,\n",
    "            value / 1e18 AS value_in_ether,\n",
    "            CASE \n",
    "                WHEN \"to\" = 0x54945180db7943c0ed0fee7edab2bd24620256bc THEN 'cbETH'\n",
    "                WHEN \"to\" = 0x1bee69b7dfffa4e2d53c2a2df135c388ad25dcd2 THEN 'rETH'\n",
    "                WHEN \"to\" = 0x93c4b944d05dfe6df7645a86cd2206016c51564d THEN 'stETH'\n",
    "                WHEN \"to\" = 0x57ba429517c3473B6d34CA9aCd56c0e735b94c02 THEN 'osETH'\n",
    "                WHEN \"to\" = 0x0Fe4F44beE93503346A3Ac9EE5A26b130a5796d6 THEN 'swETH'\n",
    "                WHEN \"to\" = 0x13760F50a9d7377e4F20CB8CF9e4c26586c658ff THEN 'AnkrETH'\n",
    "                WHEN \"to\" = 0x7CA911E83dabf90C90dD3De5411a10F1A6112184 THEN 'wBETH'\n",
    "                WHEN \"to\" = 0x9d7eD45EE2E8FC5482fa2428f15C971e6369011d THEN 'EthX'\n",
    "                WHEN \"to\" = 0xa4C637e0F704745D182e4D38cAb7E7485321d059 THEN 'OETH'\n",
    "                WHEN \"to\" = 0xAe60d8180437b5C34bB956822ac2710972584473 THEN 'LSETH'\n",
    "                WHEN \"to\" = 0x298aFB19A105D59E74658C4C334Ff360BadE6dd2 THEN 'METH'\n",
    "                WHEN \"to\" = 0xac3E018457B222d93114458476f3E3416Abbe38F THEN 'SFRXETH'\n",
    "\n",
    "                ELSE 'Unknown'\n",
    "            END AS token_symbol\n",
    "        FROM \n",
    "            erc20_ethereum.evt_Transfer\n",
    "        WHERE\n",
    "            \"to\" IN (0x54945180db7943c0ed0fee7edab2bd24620256bc,\n",
    "                 0x1bee69b7dfffa4e2d53c2a2df135c388ad25dcd2,\n",
    "                 0x93c4b944d05dfe6df7645a86cd2206016c51564d,\n",
    "                 0x57ba429517c3473B6d34CA9aCd56c0e735b94c02,\n",
    "                 0x0Fe4F44beE93503346A3Ac9EE5A26b130a5796d6,\n",
    "                 0x13760F50a9d7377e4F20CB8CF9e4c26586c658ff,\n",
    "                 0x7CA911E83dabf90C90dD3De5411a10F1A6112184,\n",
    "                 0x9d7eD45EE2E8FC5482fa2428f15C971e6369011d,\n",
    "                 0xa4C637e0F704745D182e4D38cAb7E7485321d059,\n",
    "                 0xAe60d8180437b5C34bB956822ac2710972584473,\n",
    "                0x298aFB19A105D59E74658C4C334Ff360BadE6dd2,\n",
    "                0x8CA7A5d6f3acd3A7A8bC468a8CD0FB14B6BD28b6\n",
    "                 )\n",
    "        UNION ALL\n",
    "        SELECT \n",
    "            \"from\" AS address,\n",
    "            -value / 1e18 AS value_in_ether,\n",
    "            CASE \n",
    "                WHEN \"from\" = 0x54945180db7943c0ed0fee7edab2bd24620256bc THEN 'cbETH'\n",
    "                WHEN \"from\" = 0x1bee69b7dfffa4e2d53c2a2df135c388ad25dcd2 THEN 'rETH'\n",
    "                WHEN \"from\" = 0x93c4b944d05dfe6df7645a86cd2206016c51564d THEN 'stETH'\n",
    "                WHEN \"from\" = 0x57ba429517c3473B6d34CA9aCd56c0e735b94c02 THEN 'osETH'\n",
    "                WHEN \"from\" = 0x0Fe4F44beE93503346A3Ac9EE5A26b130a5796d6 THEN 'swETH'\n",
    "                WHEN \"from\" = 0x13760F50a9d7377e4F20CB8CF9e4c26586c658ff THEN 'AnkrETH'\n",
    "                WHEN \"from\" = 0x7CA911E83dabf90C90dD3De5411a10F1A6112184 THEN 'wBETH'\n",
    "                WHEN \"from\" = 0x9d7eD45EE2E8FC5482fa2428f15C971e6369011d THEN 'EthX'\n",
    "                WHEN \"from\" = 0xa4C637e0F704745D182e4D38cAb7E7485321d059 THEN 'OETH'\n",
    "                WHEN \"from\" = 0xAe60d8180437b5C34bB956822ac2710972584473 THEN 'LSETH'\n",
    "                WHEN \"from\" = 0x298aFB19A105D59E74658C4C334Ff360BadE6dd2 THEN 'METH'\n",
    "                WHEN \"from\" = 0xac3E018457B222d93114458476f3E3416Abbe38F THEN 'SFRXETH'\n",
    "                ELSE 'Unknown'\n",
    "            END AS token_symbol\n",
    "        FROM \n",
    "            erc20_ethereum.evt_Transfer\n",
    "        WHERE\n",
    "            \"from\" IN (0x54945180db7943c0ed0fee7edab2bd24620256bc,\n",
    "                 0x1bee69b7dfffa4e2d53c2a2df135c388ad25dcd2,\n",
    "                 0x93c4b944d05dfe6df7645a86cd2206016c51564d,\n",
    "                 0x57ba429517c3473B6d34CA9aCd56c0e735b94c02,\n",
    "                 0x0Fe4F44beE93503346A3Ac9EE5A26b130a5796d6,\n",
    "                 0x13760F50a9d7377e4F20CB8CF9e4c26586c658ff,\n",
    "                 0x7CA911E83dabf90C90dD3De5411a10F1A6112184,\n",
    "                 0x9d7eD45EE2E8FC5482fa2428f15C971e6369011d,\n",
    "                 0xa4C637e0F704745D182e4D38cAb7E7485321d059,\n",
    "                 0xAe60d8180437b5C34bB956822ac2710972584473,\n",
    "                0x298aFB19A105D59E74658C4C334Ff360BadE6dd2,\n",
    "                0x8CA7A5d6f3acd3A7A8bC468a8CD0FB14B6BD28b6\n",
    "                 )\n",
    "    ) AS Transactions\n",
    "    GROUP BY address, token_symbol\n",
    "),\n",
    "RestakedPoints AS (\n",
    "    SELECT\n",
    "        d.address,\n",
    "        SUM(d.value_in_ether * ((EXTRACT(DAY FROM COALESCE(w.end_time, CURRENT_DATE) - d.deposit_time) * 24) + EXTRACT(HOUR FROM COALESCE(w.end_time, CURRENT_DATE) - d.deposit_time))) AS restaked_points,\n",
    "        SUM(d.value_in_ether + COALESCE(w.value_in_ether, 0)) AS total_value\n",
    "    FROM Deposits d\n",
    "    LEFT JOIN (\n",
    "        SELECT \n",
    "            address, \n",
    "            MIN(withdrawal_time) AS end_time,\n",
    "            SUM(value_in_ether) AS value_in_ether\n",
    "        FROM Withdrawals\n",
    "        GROUP BY address\n",
    "    ) w ON d.address = w.address\n",
    "    GROUP BY d.address\n",
    "),\n",
    "TotalPoints AS (\n",
    "     SELECT \n",
    "        SUM(restaked_points) AS total_points\n",
    "    FROM RestakedPoints\n",
    ")\n",
    "SELECT \n",
    "    RANK() OVER (ORDER BY rp.restaked_points DESC) AS wallet_rank,\n",
    "    rp.address,\n",
    "    round(rp.restaked_points, 5)                          AS restaked_points,\n",
    "    (rp.restaked_points / tp.total_points)                AS share_of_total_points,\n",
    "    --cast(round((rp.restaked_points / tp.total_points) * 100, 5) AS VARCHAR) || ' %' AS share_of_total_points,\n",
    "    round(rp.total_value, 5)                              AS total_value_eth,\n",
    "    round(tb.cbETH, 5)                                    AS cbETH,\n",
    "    round(tb.rETH, 5)                                     AS rETH,\n",
    "    round(tb.stETH, 5)                                    AS stETH,\n",
    "    round(tb.osETH, 5)                                    AS osETH,\n",
    "    round(tb.swETH, 5)                                    AS swETH,\n",
    "    round(tb.AnkrETH, 5)                                  AS AnkrETH,\n",
    "    round(tb.wBETH, 5)                                    AS wBETH,\n",
    "    round(tb.EthX, 5)                                     AS EthX,\n",
    "    round(tb.OETH, 5)                                     AS OETH,\n",
    "    round(tb.LSETH, 5)                                    AS LSETH,\n",
    "    round(tb.METH, 5)                                     AS METH,\n",
    "    round(tb.SFRXETH, 5)                                  AS SFRXETH\n",
    "FROM RestakedPoints rp\n",
    "CROSS JOIN TotalPoints tp\n",
    "LEFT JOIN (\n",
    "    SELECT\n",
    "        address,\n",
    "        MAX(CASE WHEN token_symbol = 'cbETH' THEN balance ELSE 0 END) AS cbETH,\n",
    "        MAX(CASE WHEN token_symbol = 'rETH' THEN balance ELSE 0 END) AS rETH,\n",
    "        MAX(CASE WHEN token_symbol = 'stETH' THEN balance ELSE 0 END) AS stETH,\n",
    "        MAX(CASE WHEN token_symbol = 'osETH' THEN balance ELSE 0 END) AS osETH,\n",
    "        MAX(CASE WHEN token_symbol = 'swETH' THEN balance ELSE 0 END) AS swETH,\n",
    "        MAX(CASE WHEN token_symbol = 'AnkrETH' THEN balance ELSE 0 END) AS AnkrETH,\n",
    "        MAX(CASE WHEN token_symbol = 'wBETH' THEN balance ELSE 0 END) AS wBETH,\n",
    "        MAX(CASE WHEN token_symbol = 'EthX' THEN balance ELSE 0 END) AS EthX,\n",
    "        MAX(CASE WHEN token_symbol = 'OETH' THEN balance ELSE 0 END) AS OETH,\n",
    "        MAX(CASE WHEN token_symbol = 'LSETH' THEN balance ELSE 0 END) AS LSETH,\n",
    "        MAX(CASE WHEN token_symbol = 'METH' THEN balance ELSE 0 END) AS METH,\n",
    "        MAX(CASE WHEN token_symbol = 'SFRXETH' THEN balance ELSE 0 END) AS SFRXETH\n",
    "    FROM TokenBalances\n",
    "    GROUP BY address\n",
    ") tb ON rp.address = tb.address\n"
   ]
  },
  {
   "cell_type": "code",
   "execution_count": null,
   "metadata": {},
   "outputs": [],
   "source": [
    "-- EigenLayer \n",
    "WITH Deposits AS (\n",
    "   SELECT \n",
    "        \"from\" AS address,\n",
    "        value / 1e18 AS value_in_ether,\n",
    "        evt_block_time AS deposit_time\n",
    "    FROM \n",
    "        erc20_ethereum.evt_Transfer\n",
    "    WHERE\n",
    "        \"to\" IN (0x54945180db7943c0ed0fee7edab2bd24620256bc,\n",
    "             0x1bee69b7dfffa4e2d53c2a2df135c388ad25dcd2,\n",
    "             0x93c4b944d05dfe6df7645a86cd2206016c51564d,\n",
    "             0x57ba429517c3473B6d34CA9aCd56c0e735b94c02,\n",
    "             0x0Fe4F44beE93503346A3Ac9EE5A26b130a5796d6,\n",
    "             0x13760F50a9d7377e4F20CB8CF9e4c26586c658ff,\n",
    "             0x7CA911E83dabf90C90dD3De5411a10F1A6112184,\n",
    "             0x9d7eD45EE2E8FC5482fa2428f15C971e6369011d,\n",
    "             0xa4C637e0F704745D182e4D38cAb7E7485321d059,\n",
    "             0xAe60d8180437b5C34bB956822ac2710972584473,\n",
    "            0x298aFB19A105D59E74658C4C334Ff360BadE6dd2,\n",
    "            0x8CA7A5d6f3acd3A7A8bC468a8CD0FB14B6BD28b6\n",
    "             )\n",
    "    and \"from\" IN (0x57F9672bA603251C9C03B36cabdBBcA7Ca8Cfcf4)\n",
    "),\n",
    "Withdrawals AS (\n",
    "   SELECT \n",
    "        \"from\" AS address,\n",
    "        -value / 1e18 AS value_in_ether,\n",
    "        evt_block_time AS withdrawal_time\n",
    "    FROM \n",
    "        erc20_ethereum.evt_Transfer\n",
    "    WHERE\n",
    "        \"from\" IN (0x54945180db7943c0ed0fee7edab2bd24620256bc,\n",
    "             0x1bee69b7dfffa4e2d53c2a2df135c388ad25dcd2,\n",
    "             0x93c4b944d05dfe6df7645a86cd2206016c51564d,\n",
    "             0x57ba429517c3473B6d34CA9aCd56c0e735b94c02,\n",
    "             0x0Fe4F44beE93503346A3Ac9EE5A26b130a5796d6,\n",
    "             0x13760F50a9d7377e4F20CB8CF9e4c26586c658ff,\n",
    "             0x7CA911E83dabf90C90dD3De5411a10F1A6112184,\n",
    "             0x9d7eD45EE2E8FC5482fa2428f15C971e6369011d,\n",
    "             0xa4C637e0F704745D182e4D38cAb7E7485321d059,\n",
    "             0xAe60d8180437b5C34bB956822ac2710972584473,\n",
    "            0x298aFB19A105D59E74658C4C334Ff360BadE6dd2,\n",
    "            0x8CA7A5d6f3acd3A7A8bC468a8CD0FB14B6BD28b6\n",
    "             ),\n",
    "with transactions as (\n",
    "    select * from withdrawls\n",
    "    union all\n",
    "    select * from deposits),\n",
    "\n",
    "select * from transactions"
   ]
  },
  {
   "cell_type": "code",
   "execution_count": 2,
   "metadata": {},
   "outputs": [],
   "source": [
    "# write api request https://api.dune.com/api/v1/query/3430251/results?api_key=<api_key>\n",
    "\n"
   ]
  },
  {
   "cell_type": "code",
   "execution_count": 7,
   "metadata": {},
   "outputs": [
    {
     "data": {
      "text/plain": [
       "227.27272727272728"
      ]
     },
     "execution_count": 7,
     "metadata": {},
     "output_type": "execute_result"
    }
   ],
   "source": [
    "2500/11"
   ]
  },
  {
   "cell_type": "code",
   "execution_count": 8,
   "metadata": {},
   "outputs": [
    {
     "data": {
      "text/plain": [
       "{'execution_id': '01HQ7E0YAQ9C674A6H75P0YG59',\n",
       " 'query_id': 3430571,\n",
       " 'is_execution_finished': True,\n",
       " 'state': 'QUERY_STATE_COMPLETED',\n",
       " 'submitted_at': '2024-02-22T03:33:54.136317Z',\n",
       " 'expires_at': '2024-05-22T03:34:10.253541Z',\n",
       " 'execution_started_at': '2024-02-22T03:33:54.619658Z',\n",
       " 'execution_ended_at': '2024-02-22T03:34:10.25354Z',\n",
       " 'result': {'rows': [{'address': '0xd0ee89d82183d7ddaef14c6b4fc0aa742f426355',\n",
       "    'restaked_points': 2237.885090825587,\n",
       "    'staked_now': 6.10604376107872},\n",
       "   {'address': '0x814cc6b8fd2555845541fb843f37418b05977d8d',\n",
       "    'restaked_points': 12558.6634824763,\n",
       "    'staked_now': 33.849405914544185},\n",
       "   {'address': '0xfe715358368416e01d3a961d3a037b7359735d5e',\n",
       "    'restaked_points': 1174.3864844910565,\n",
       "    'staked_now': 3.0035459961408097},\n",
       "   {'address': '0x4878f636a9aa314b776ac51a25021c44caf86bed',\n",
       "    'restaked_points': 2733.7427425333985,\n",
       "    'staked_now': 8.974859955498987},\n",
       "   {'address': '0x90e80e25abdb6205b08deba29a87f7eb039023c2',\n",
       "    'restaked_points': 4085.7529491934597,\n",
       "    'staked_now': 11.229834196281718},\n",
       "   {'address': '0xa9f8c770661bee8df2d026edb1cb6ff763c780ff',\n",
       "    'restaked_points': 261.625425335449,\n",
       "    'staked_now': 0.6691187348732711},\n",
       "   {'address': '0x295234b7e370a5db2d2447aca83bc7448f151161',\n",
       "    'restaked_points': 65.83931266441566,\n",
       "    'staked_now': 0.168386988911549},\n",
       "   {'address': '0xc4181dc7bb31453c4a48689ce0cbe975e495321c',\n",
       "    'restaked_points': 41269.28253278091,\n",
       "    'staked_now': 108.79119207289627},\n",
       "   {'address': '0x1aa53bc4beb82adf7f5edee9e3bbf3434ad59f12',\n",
       "    'restaked_points': 12805.715670192165,\n",
       "    'staked_now': 33.064473395392326},\n",
       "   {'address': '0x6e17a8b5d33e6dbdb9fc61d758bf554b6ad93322',\n",
       "    'restaked_points': 76.41399289268492,\n",
       "    'staked_now': 0.19543220688666219},\n",
       "   {'address': '0xc0660932c5dcad4a1409b7975d147203b1e9a2b6',\n",
       "    'restaked_points': 68.37118940447695,\n",
       "    'staked_now': 0.17486237699354718},\n",
       "   {'address': '0x36b429439ab227fab170a4dfb3321741c8815e55',\n",
       "    'restaked_points': 1404.6711603001781,\n",
       "    'staked_now': 3.5925093613815298}],\n",
       "  'metadata': {'column_names': ['address', 'restaked_points', 'staked_now'],\n",
       "   'row_count': 12,\n",
       "   'result_set_bytes': 981,\n",
       "   'total_row_count': 12,\n",
       "   'total_result_set_bytes': 981,\n",
       "   'datapoint_count': 36,\n",
       "   'pending_time_millis': 483,\n",
       "   'execution_time_millis': 15633}}}"
      ]
     },
     "execution_count": 8,
     "metadata": {},
     "output_type": "execute_result"
    }
   ],
   "source": [
    "api_key = 'd2DGjLBGkwIvBNH5tyqUkMnTLxfEaEXB'\n",
    "url = 'https://api.dune.com/api/v1/query/3430571/results?api_key=' + api_key\n",
    "response = requests.get(url)\n",
    "response.json()"
   ]
  },
  {
   "cell_type": "code",
   "execution_count": 9,
   "metadata": {},
   "outputs": [
    {
     "data": {
      "text/plain": [
       "78742.35003309009"
      ]
     },
     "execution_count": 9,
     "metadata": {},
     "output_type": "execute_result"
    }
   ],
   "source": [
    "points_total = sum([x['restaked_points'] for x in response.json()['result']['rows']])\n",
    "points_total"
   ]
  },
  {
   "cell_type": "code",
   "execution_count": 12,
   "metadata": {},
   "outputs": [
    {
     "data": {
      "text/plain": [
       "1372.0000107568665"
      ]
     },
     "execution_count": 12,
     "metadata": {},
     "output_type": "execute_result"
    }
   ],
   "source": [
    "73.07382 / 0.053260801331691449"
   ]
  },
  {
   "cell_type": "code",
   "execution_count": 17,
   "metadata": {},
   "outputs": [
    {
     "data": {
      "text/plain": [
       "73.60642744039758"
      ]
     },
     "execution_count": 17,
     "metadata": {},
     "output_type": "execute_result"
    }
   ],
   "source": [
    "0.053260801331691449 * (57 * 24 + 14 )"
   ]
  },
  {
   "cell_type": "code",
   "execution_count": 13,
   "metadata": {},
   "outputs": [
    {
     "data": {
      "text/plain": [
       "1381.8605458383677"
      ]
     },
     "execution_count": 13,
     "metadata": {},
     "output_type": "execute_result"
    }
   ],
   "source": [
    "73.5990 / 0.053260801331691449"
   ]
  },
  {
   "cell_type": "code",
   "execution_count": null,
   "metadata": {},
   "outputs": [],
   "source": [
    "# https://api.dune.com/api/v1/query/3453333/results?api_key=<api_key>"
   ]
  },
  {
   "cell_type": "code",
   "execution_count": 15,
   "metadata": {},
   "outputs": [
    {
     "data": {
      "text/plain": [
       "{'execution_id': '01HQ5JN952MCHMQ55A3NX6D6AM',\n",
       " 'query_id': 3453535,\n",
       " 'is_execution_finished': True,\n",
       " 'state': 'QUERY_STATE_COMPLETED',\n",
       " 'submitted_at': '2024-02-21T10:16:26.019584Z',\n",
       " 'expires_at': '2024-05-21T10:17:19.073498Z',\n",
       " 'execution_started_at': '2024-02-21T10:16:26.048005Z',\n",
       " 'execution_ended_at': '2024-02-21T10:17:19.073496Z',\n",
       " 'result': {'rows': [{'amount_staked': 192,\n",
       "    'eigenpod': '0x54ad433d2423457ae05a2d0becf49487c4492440',\n",
       "    'restaked_points': 119616,\n",
       "    'validators': 6}],\n",
       "  'metadata': {'column_names': ['eigenpod',\n",
       "    'amount_staked',\n",
       "    'validators',\n",
       "    'restaked_points'],\n",
       "   'row_count': 1,\n",
       "   'result_set_bytes': 106,\n",
       "   'total_row_count': 1,\n",
       "   'total_result_set_bytes': 106,\n",
       "   'datapoint_count': 4,\n",
       "   'pending_time_millis': 28,\n",
       "   'execution_time_millis': 53025}}}"
      ]
     },
     "execution_count": 15,
     "metadata": {},
     "output_type": "execute_result"
    }
   ],
   "source": [
    "api_key = 'd2DGjLBGkwIvBNH5tyqUkMnTLxfEaEXB'\n",
    "url = 'https://api.dune.com/api/v1/query/3453535/results?api_key=' + api_key\n",
    "response = requests.get(url)\n",
    "response.json()"
   ]
  },
  {
   "cell_type": "code",
   "execution_count": 14,
   "metadata": {},
   "outputs": [
    {
     "data": {
      "text/plain": [
       "21.666666666666668"
      ]
     },
     "execution_count": 14,
     "metadata": {},
     "output_type": "execute_result"
    }
   ],
   "source": [
    "16640 / 32 / 24"
   ]
  }
 ],
 "metadata": {
  "kernelspec": {
   "display_name": "Python 3",
   "language": "python",
   "name": "python3"
  },
  "language_info": {
   "codemirror_mode": {
    "name": "ipython",
    "version": 3
   },
   "file_extension": ".py",
   "mimetype": "text/x-python",
   "name": "python",
   "nbconvert_exporter": "python",
   "pygments_lexer": "ipython3",
   "version": "3.11.5"
  }
 },
 "nbformat": 4,
 "nbformat_minor": 2
}
